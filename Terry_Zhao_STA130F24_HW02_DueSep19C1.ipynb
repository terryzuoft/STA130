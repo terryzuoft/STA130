{
 "cells": [
  {
   "cell_type": "markdown",
   "id": "14b74968",
   "metadata": {},
   "source": [
    "## STA130 Homework 02\n",
    "\n",
    "Please see the course [wiki-textbook](https://github.com/pointOfive/stat130chat130/wiki) for the list of topics covered in this homework assignment, and a list of topics that might appear during ChatBot conversations which are \"out of scope\" for the purposes of this homework assignment (and hence can be safely ignored if encountered)\n",
    "\n",
    "Terry Zhao"
   ]
  },
  {
   "cell_type": "markdown",
   "id": "f014006ff8809433",
   "metadata": {},
   "source": [
    "<details class=\"details-example\"><summary style=\"color:blue\"><u>Introduction</u></summary>\n",
    "\n",
    "### Introduction\n",
    "    \n",
    "A reasonable characterization of STA130 Homework is that it simply defines a weekly reading comprehension assignment. \n",
    "Indeed, STA130 Homework essentially boils down to completing various understanding confirmation exercises oriented around coding and writing tasks.\n",
    "However, rather than reading a textbook, STA130 Homework is based on ChatBots so students can interactively follow up to clarify questions or confusion that they may still have regarding learning objective assignments.\n",
    "\n",
    "> Communication is a fundamental skill underlying statistics and data science, so STA130 Homework based on ChatBots helps practice effective two-way communication as part of a \"realistic\" dialogue activity supporting underlying conceptual understanding building. \n",
    "\n",
    "It will likely become increasingly tempting to rely on ChatBots to \"do the work for you\". But when you find yourself frustrated with a ChatBots inability to give you the results you're looking for, this is a \"hint\" that you've become overreliant on the ChatBots. Your objective should not be to have ChatBots \"do the work for you\", but to use ChatBots to help you build your understanding so you can efficiently leverage ChatBots (and other resources) to help you work more efficiently.<br><br>\n",
    "\n",
    "</details>\n",
    "\n",
    "<details class=\"details-example\"><summary style=\"color:blue\"><u>Instructions</u></summary>\n",
    "\n",
    "### Instructions\n",
    "    \n",
    "1. Code and write all your answers (for both the \"Prelecture\" and \"Postlecture\" HW) in a python notebook (in code and markdown cells) \n",
    "    \n",
    "> It is *suggested but not mandatory* that you complete the \"Prelecture\" HW prior to the Monday LEC since (a) all HW is due at the same time; but, (b) completing some of the HW early will mean better readiness for LEC and less of a \"procrastentation cruch\" towards the end of the week...\n",
    "    \n",
    "2. Paste summaries of your ChatBot sessions (including link(s) to chat log histories if you're using ChatGPT) within your notebook\n",
    "    \n",
    "> Create summaries of your ChatBot sessions by using concluding prompts such as \"Please provide a summary of our exchanges here so I can submit them as a record of our interactions as part of a homework assignment\" or, \"Please provide me with the final working verson of the code that we created together\"\n",
    "    \n",
    "3. Save your python jupyter notebook in your own account and \"repo\" on [github.com](github.com) and submit a link to that notebook though Quercus for assignment marking<br><br>\n",
    "\n",
    "</details>\n",
    "\n",
    "<details class=\"details-example\"><summary style=\"color:blue\"><u>Prompt Engineering?</u></summary>\n",
    "    \n",
    "### Prompt Engineering? \n",
    "    \n",
    "The questions (as copy-pasted prompts) are designed to initialize appropriate ChatBot conversations which can be explored in the manner of an interactive and dynamic textbook; but, it is nonetheless **strongly recommendated** that your rephrase the questions in a way that you find natural to ensure a clear understanding of the question. Given sensible prompts the represent a question well, the two primary challenges observed to arise from ChatBots are \n",
    "\n",
    "1. conversations going beyond the intended scope of the material addressed by the question; and, \n",
    "2. unrecoverable confusion as a result of sequential layers logial inquiry that cannot be resolved. \n",
    "\n",
    "In the case of the former (1), adding constraints specifying the limits of considerations of interest tends to be helpful; whereas, the latter (2) is often the result of initial prompting that leads to poor developments in navigating the material, which are likely just best resolve by a \"hard reset\" with a new initial approach to prompting.  Indeed, this is exactly the behavior [hardcoded into copilot](https://answers.microsoft.com/en-us/bing/forum/all/is-this-even-normal/0b6dcab3-7d6c-4373-8efe-d74158af3c00)...\n",
    "\n",
    "</details>"
   ]
  },
  {
   "cell_type": "markdown",
   "id": "161fd459",
   "metadata": {},
   "source": [
    "\n",
    "### Marking Rubric (which may award partial credit) \n",
    "\n",
    "- [0.1 points]: All relevant ChatBot summaries [including link(s) to chat log histories if you're using ChatGPT] are reported within the notebook\n",
    "- [0.3 points]: Assignment completion confirmed by working \"final\" code and ChatBot summaries for \"3\"\n",
    "- [0.3 points]: Written submission evaluation and enagement confirmation with ChatBot summaries for \"6\"\n",
    "- [0.3 points]: Evaluation of engagement and evaluation of written communication in \"7\"\n",
    "        "
   ]
  },
  {
   "cell_type": "markdown",
   "id": "f7ff3f55",
   "metadata": {},
   "source": [
    "### \"Pre-lecture\" HW [*completion prior to next LEC is suggested but not mandatory*]"
   ]
  },
  {
   "cell_type": "markdown",
   "id": "fda8568b",
   "metadata": {},
   "source": [
    "#### 1. Begin (or restart) part \"3(a)\" of the **TUT Demo** and interact with a ChatBot to make sure you understand how each part the Monte Hall problem code above works<br>\n",
    "\n",
    "<details class=\"details-example\"><summary style=\"color:blue\"><u>Further Guidance</u></summary>\n",
    "    \n",
    "> _ChatBots typically explain code fairly effectively, so a ChatBot will probably be very helpful if you share the full Monte Hall problem code; but, you can always introduce more specific and targetted follow-up prompts that help with focus, re-redirection, and response format regarding the ChatBot responses as needed._ \n",
    ">\n",
    "> _ChatBots won't always re-introduce and re-explain the Monte Hall problem itself, so if you need it to do so you may need to specifically request this as part of your prompt or follow up interactions._\n",
    "\n",
    "</details>\n"
   ]
  },
  {
   "cell_type": "markdown",
   "id": "8622b9f2",
   "metadata": {},
   "source": [
    "From GPT (complicated, but straightforward explanation): \n",
    "\n",
    "The given code simulates the Monty Hall problem. The Monty Hall problem is a famous probability puzzle based on a game show scenario, where the contestant is asked to choose one of three doors. Behind one door is a car (the prize), and behind the other two are goats (which the contestant doesn't want). After the contestant makes an initial choice, the host, Monty Hall, who knows what's behind each door, reveals a goat behind one of the two remaining doors. The contestant is then given the option to stick with their original choice or switch to the remaining door.\n",
    "\n",
    "The code demonstrates the probability of winning the car when the contestant follows the \"always switch\" strategy. Here's the step-by-step breakdown of the logic:\n",
    "\n",
    "1. **Initialization**:\n",
    "   - `all_door_options = (1, 2, 3)`: The three possible doors.\n",
    "   - `my_door_choice = 1`: The contestant always picks door 1 initially.\n",
    "   - `i_won = 0`: Keeps track of the number of times the contestant wins (i.e., chooses the door with the car behind it).\n",
    "   - `reps = 100000`: Number of times the simulation is run (i.e., 100,000 repetitions).\n",
    "\n",
    "2. **Main Simulation Loop** (`for i in range(reps)`):\n",
    "   - Each iteration of this loop represents one game.\n",
    "\n",
    "3. **Randomly Choose the Winning Door**:\n",
    "   - `secret_winning_door = np.random.choice(all_door_options)`: Randomly selects one of the doors (1, 2, or 3) as the door with the car behind it.\n",
    "\n",
    "4. **Remove the Winning Door from Possible Reveals**:\n",
    "   - `all_door_options_list = list(all_door_options)`: Converts the tuple of door options into a list to manipulate it.\n",
    "   - `all_door_options_list.remove(secret_winning_door)`: Removes the door with the car (so it can't be revealed as a goat door).\n",
    "\n",
    "5. **Remove the Contestant's Initial Choice (If Not the Winning Door)**:\n",
    "   - The code tries to remove the contestant's initial choice (`my_door_choice`). If the initial choice is the winning door, it's already been removed, so an exception will occur, which is caught with the `try-except` block.\n",
    "\n",
    "6. **Reveal a \"Goat\" Door**:\n",
    "   - `goat_door_reveal = np.random.choice(all_door_options_list)`: A goat door is revealed (randomly selected from the remaining doors that aren't the winning one).\n",
    "   - `all_door_options_list.remove(goat_door_reveal)`: The revealed goat door is removed from the list of options.\n",
    "\n",
    "7. **Reintroduce the Winning Door If Needed**:\n",
    "   - If the contestant's initial choice wasn't the winning door, the winning door is added back into the list of remaining choices. If the contestant's initial choice was the winning door, no need to re-add it.\n",
    "\n",
    "8. **Switch Strategy**:\n",
    "   - `my_door_choice = all_door_options_list[0]`: The contestant switches their choice to the other remaining door.\n",
    "\n",
    "9. **Check If the Contestant Won**:\n",
    "   - `if my_door_choice == secret_winning_door`: If, after switching, the contestant's new choice is the winning door, they win.\n",
    "   - `i_won += 1`: Increment the win counter if the contestant won.\n",
    "\n",
    "10. **Final Win Probability**:\n",
    "    - `i_won / reps`: The final win probability is calculated as the ratio of wins to the total number of repetitions.\n",
    "\n",
    "### Summary of the Strategy\n",
    "This code simulates the \"always switch\" strategy in the Monty Hall problem. In this strategy, the contestant always switches their choice after a goat door is revealed. Over many repetitions, the code will show that the probability of winning by switching is approximately 2/3. This is because by switching, the contestant has a higher chance of selecting the door with the car than if they stuck with their initial choice."
   ]
  },
  {
   "cell_type": "markdown",
   "id": "11581881",
   "metadata": {},
   "source": [
    "#### 2. Extend your ChatBot sessions to now address part \"3(b)\" of the **TUT Demo** and interact with your ChatBot to see if it can suggest a simpler, more streamlined way to code up this *for* loop simulation so the process is more clear and easier to understand; then, describe any preferences you have in terms of readibility or explainability  between the original code and the code improvements suggested by the ChatBot<br>\n",
    "\n",
    "<details class=\"details-example\"><summary style=\"color:blue\"><u>Further Guidance</u></summary>\n",
    "    \n",
    "> _The links in the TUT Demo show that there can be variation in the quality of the code improvements suggested by ChatBots; however, it's most likely that a ChatBot is going to be able to greatly reduce the number of steps/lines of code and hence complexity of understanding the problem. ChatBots can provide a good amount of explanation and inline clarifying code comments and provide more simpler more intuitive code that can transform something that looks a bit scary at first to something that's easy to follow and make sense of. Of course, in doing so, a ChatBot may introduce functions that you've technically not learned or seen before; but, the amount of simplification and clarifying comments is probably going to more than compensate for this; and, you'll have seen a learned a little bit more about what's possible through this process, which is the ideal experience we're hoping you'll see here._ \n",
    "    \n",
    "</details>\n",
    "        "
   ]
  },
  {
   "cell_type": "markdown",
   "id": "f3fdebd8",
   "metadata": {},
   "source": [
    "#### 3. Submit your preferred version of the Monty Hall problem that is verified to be running and working with a final printed output of the code; then, add code comments explaining the purpose of each line of the code<br>\n",
    "\n",
    "<details class=\"details-example\"><summary style=\"color:blue\"><u>Further Guidance</u></summary>\n",
    "    \n",
    "> _Your ChatBot will likely do much of this for you, but verify for yourself that you understand each comment and reword comments wherever you think it would be better to explain it differently._\n",
    ">\n",
    "> _Remember to ask for summaries of your current session and paste these into your homework notebook  (including link(s) to chat log histories if you're using ChatGPT)_\n",
    "\n",
    "</details>\n",
    " "
   ]
  },
  {
   "cell_type": "code",
   "execution_count": 5,
   "id": "d8c7a39b",
   "metadata": {},
   "outputs": [
    {
     "name": "stdout",
     "output_type": "stream",
     "text": [
      "0.66565\n"
     ]
    }
   ],
   "source": [
    "# 2/3. \n",
    "\n",
    "import numpy as np # import required library\n",
    "\n",
    "reps = 100000 # how many times the simulation is going to run for \n",
    "wins = 0 # counter for the amount of wins \n",
    "\n",
    "for x in range(reps): # start the for (count) loop, \n",
    "    # Randomly assign the winning door (1, 2, or 3) - GPT\n",
    "    winning_door = np.random.randint(1, 4) # select a door using the random.randint() \n",
    "    \n",
    "    # Player's initial choice is always door 1 - GPT\n",
    "    player_choice = 1 # in the problem, the player will always choose door 1\n",
    "    \n",
    "    # If the winning door is not door 1, switching wins (since Monty will reveal the other goat) - GPT\n",
    "    if winning_door != player_choice: # if the winning door is not door 1\n",
    "        wins += 1 # since we know that one out of the two doors have been revealed have no goat behind them, therefore switching to the other unrevealed door will result in a win\n",
    "\n",
    "# Calculate the probability of winning by switching\n",
    "win_probability = wins / reps # we use the winning rounds to divide the total rounds to determine a probability\n",
    "print(win_probability)"
   ]
  },
  {
   "cell_type": "markdown",
   "id": "e0aaea41",
   "metadata": {},
   "source": [
    "ChatGPT Summary: \n",
    "\n",
    "You shared a code that simulates the Monty Hall problem using the \"always switch\" strategy, and I explained its logic step by step. The code simulates 100,000 repetitions of the game, randomly selects a winning door, removes non-winning options, and switches the player's choice. It tracks how often the player wins by switching and calculates the probability.\n",
    "\n",
    "You then asked for a simpler version of the code. I provided a more straightforward solution that still simulates the \"always switch\" strategy but with fewer steps and improved readability. The simplified code directly checks if switching leads to a win without extra manipulations.\n",
    "\n",
    "Link: https://chatgpt.com/share/66eb764f-aa68-800e-8ffc-af72dbab2eb5"
   ]
  },
  {
   "cell_type": "markdown",
   "id": "8ba3ff01",
   "metadata": {},
   "source": [
    "#### 4. Watch the embedded video tutorial on Markov chains in the next Jupyter cell below to understand their application and relevance for ChatBots; then, after watching the video, start a new ChatBot session by prompting that you have code that creates a \"Markovian ChatBot\"; show it the first version of the \"Markovian ChatBot code\" below; and interact with the ChatBot session to make sure you understand how the original first version of the \"Markovian ChatBot code\" works<br>\n",
    "\n",
    "<details class=\"details-example\"><summary style=\"color:blue\"><u>Further Guidance</u></summary>\n",
    "\n",
    "> _If the ChatBot prompts you as to how you will \"train\" your own \"Markovian ChatBot\" you can reply that you'll just use a series of stories with a lot of different characters_\n",
    "> \n",
    "> _Ask for summaries of this second ChatBot session and paste these into your homework notebook (including link(s) to chat log histories if you're using ChatGPT)_\n",
    "    \n",
    "</details>\n",
    "    "
   ]
  },
  {
   "cell_type": "code",
   "execution_count": 4,
   "id": "a52754504a625b36",
   "metadata": {},
   "outputs": [
    {
     "data": {
      "image/jpeg": "[encoded data removed]",
      "text/html": [
       "\n",
       "        <iframe\n",
       "            width=\"550\"\n",
       "            height=\"300\"\n",
       "            src=\"https://www.youtube.com/embed/56mGTszb_iM\"\n",
       "            frameborder=\"0\"\n",
       "            allowfullscreen\n",
       "            \n",
       "        ></iframe>\n",
       "        "
      ],
      "text/plain": [
       "<IPython.lib.display.YouTubeVideo at 0x7f8dc873bcd0>"
      ]
     },
     "execution_count": 4,
     "metadata": {},
     "output_type": "execute_result"
    }
   ],
   "source": [
    "# Markov Chains and Text Generation\n",
    "from IPython.display import YouTubeVideo\n",
    "YouTubeVideo('56mGTszb_iM', width = 550)"
   ]
  },
  {
   "cell_type": "markdown",
   "id": "3ff068e8",
   "metadata": {},
   "source": [
    "From GPT: https://chatgpt.com/share/66eb7d63-8bb8-800e-a4ae-481a337563f1\n",
    "\n",
    "This Markovian ChatBot code models a simple form of language generation using a **Markov chain**. Here's a breakdown of how it works:\n",
    "\n",
    "### Components:\n",
    "\n",
    "1. **word_used dictionary**:\n",
    "   - This dictionary keeps track of how many times each word (in the `words` list) has been encountered.\n",
    "   \n",
    "2. **next_word dictionary**:\n",
    "   - This dictionary tracks what word follows each word and how frequently. The keys in `next_word` are the words that appear, and the values are dictionaries that count the occurrences of each subsequent word.\n",
    "\n",
    "### Process:\n",
    "\n",
    "- The code loops through all the words in the list `words`, except the last word (`words[:-1]` ensures this). For each word, the code checks if it has appeared before in the `word_used` dictionary:\n",
    "  1. If the word has been encountered, its count in `word_used` is incremented.\n",
    "  2. If it hasn’t been encountered yet, it’s added to `word_used` with a count of `1`. It is also added to `next_word`, which initializes an empty dictionary for tracking the words that follow it.\n",
    "  \n",
    "- Then, for the current word, the code checks what word comes next (`words[i+1]`). The `next_word[word]` dictionary stores the counts of the subsequent words.\n",
    "  - If the subsequent word already exists in `next_word[word]`, the count is incremented.\n",
    "  - If it doesn’t exist, it is added to `next_word[word]` with a count of `1`.\n",
    "\n",
    "### Markov Chain Explanation:\n",
    "- A **Markov chain** assumes that the next word in a sequence depends only on the current word, not on any previous ones. The code builds this relationship by tracking how often a word follows another in the `next_word` dictionary.\n",
    "  \n",
    "### Example:\n",
    "If `words = ['hello', 'world', 'hello', 'again']`:\n",
    "- `word_used` will become:  \n",
    "  `{ 'hello': 2, 'world': 1, 'again': 1 }`\n",
    "- `next_word` will become:  \n",
    "  `{ 'hello': { 'world': 1, 'again': 1 }, 'world': { 'hello': 1 } }`\n",
    "\n",
    "This structure can later be used to generate new sentences based on the probabilities of which word is likely to come next."
   ]
  },
  {
   "cell_type": "markdown",
   "id": "7a17e608",
   "metadata": {},
   "source": [
    "<details class=\"details-example\"><summary style=\"color:blue\"><u>Continue now...?</u></summary>\n",
    "\n",
    "### Pre-lecture VS Post-lecture HW\n",
    "\n",
    "Feel free to work on the \"Post-lecture\" HW below if you're making good progress and want to continue: for **HW 02** continuing could be reasonable because questions \"5-7\" below directly follow up and extend \"Pre-lecture\" HW question \"4\"\n",
    "\n",
    "*The benefits of continue would are that (a) it might be fun to try to tackle the challenge of working through some problems without additional preparation or guidance; and (b) this is a very valable skill to be comfortable with; and (c) it will let you build experience interacting with ChatBots (and beginning to understand their strengths and limitations in this regard)... it's good to have sense of when using a ChatBot is the best way to figure something out, or if another approach (such as course provided resources or a plain old websearch for the right resourse) would be more effective*\n",
    "    \n",
    "</details>    "
   ]
  },
  {
   "cell_type": "markdown",
   "id": "d6ae0a64",
   "metadata": {},
   "source": [
    "### \"Post-lecture\" HW [*submission along with \"Pre-lecture\" HW is due prior to next TUT*]"
   ]
  },
  {
   "cell_type": "markdown",
   "id": "a3979c94",
   "metadata": {},
   "source": [
    "#### 5. Recreate (or resume) the previous ChatBot session from question \"4\" above, and now  prompt the ChatBot session that you have a couple extensions of the code to show it, and then show it each of the extentions of the \"Markovian ChatBot code\" below in turn\n",
    "\n",
    "\n",
    "\n",
    "1. Without just supplying your ChatBot session with the answers, see if the ChatBot can figure out what the extensions in the code do; namely, making character specific Markov chains, and using bigrams (rather than just the previous word alone) dependency... prompt your ChatBot session with some hints if it's not seeming to \"get it\"<br><br>\n",
    "    \n",
    "2. Interact with your ChatBot session to have it explain details of the code wherever you need help understanding what the code is doing and how it works<br><br>\n",
    "    \n",
    "3. Start yet another new ChatBot session and first show the ChatBot the original \"Markovian ChatBot code\" below, and then tell ChatBot that you have an extension but this time just directly provide it the more complicated final extension without ever providing the intermediate extension code to the ChatBot session and see if it's still able to understand everything extension does; namely, making character specific Markov chains, and using bigrams (rather than just the previous word alone) dependency... prompt the ChatBot with some hints if it's not seeming to understand what you're getting at...<br><br>\n",
    "    \n",
    "<details class=\"details-example\"><summary style=\"color:blue\"><u>Further Guidance</u></summary>\n",
    "\n",
    "> **ALERT: Time Warning**. Regarding the comments below (which will likely be relevant and useful for you), you might find the potential learning experience that this provides to be a quite the rabbit total rabbit hole and time sink. You might end up finding out that you spent way more time than I should on learning the code!! So be mindful of your time management as there is much to do for many classes!\n",
    ">    \n",
    "> _As you may or may not have already experienced in the previous problem, a ChatBot applied to this problem is likely to start explaining a bit more knowledge about Python than you need to know (as a student just trying to learn stats+DS); however, you'll probably feel like this \"out of scope\" context information is helpful to know (or at least be aware of) and easy to understand and learn if you use some addtional prompts to dig deeper into them. A ChatBot will be quite good at explaining and helping understand smaller chunks of code; however, if given too much information at once it can gloss over some information._\n",
    ">   \n",
    "> _That said, some topics here are potentially quite and advanced and too tricky! You might be able to ask the ChatBot to simplify its explanations and that might help a bit. But on the other hand, some topics, such as, \"how does `nested_dict = lambda: defaultdict(nested_dict)` work?\" might just simply be too advanced to really admit a simpler explanation via a ChatBot. You'll have to let these sorts of things go, if you come across explanations that just aren't improving or helping at at. In the case of `defaultdict(nested_dict)` specifically, the details here are well beyond the scope of STA130 and can be very safely ignored for now. The code will have reviewed and \"walked thorugh\" in LEC, but the perspectives espoused there will be the extent of the formal commentary and information regarding the coding topics we encounter in the Markov ChatBots code here._\n",
    ">     \n",
    "> _Unlike with the Monte Hall problem, we will not inquire with the ChatBot to see if it can suggest any streamlining, readability, or usability improvements to the alternative versions of the \"Markovian ChatBot code\" we're examining_\n",
    ">     \n",
    "> - _because doing so seems to result in the attempted creation of dubiously functional modular code with a focus on reusability (which is likely a result of ChatBot design being primarily a \"computer science\" topic), so ChatBot reponses here tend to orient around programming and system design principles (despite \"Markovian\" very much being a \"statistics\" topic)_\n",
    ">     \n",
    "> _Programming and system design principles are beyond the scope of STA130; but, they are critical for modern data science careers... if you are interested in pursuing a data science career, it is imperitive that you complete courses like CSC263, CSC373, and perhaps an additional \"systems design\" course_\n",
    "> \n",
    "> ---\n",
    "> \n",
    "> _Don't forget to ask for summaries of all your different ChatBot sessions and organize and paste these into your homework notebook (including link(s) to chat log histories if you're using ChatBot)_\n",
    "    \n",
    "</details>\n",
    "     "
   ]
  },
  {
   "cell_type": "markdown",
   "id": "11fb2191",
   "metadata": {},
   "source": [
    " 1. After supplying ChatGPT with the extension of the Markovian ChatBot code, the chatbot was able to figure out each part of the code and its function.\n",
    " \n",
    " In this chat, you shared multiple extensions to a Markovian ChatBot code, and I explained how each extension works:\n",
    "\n",
    "1. **Original Code**: The chatbot uses a Markov chain to generate text by counting how often a word follows another and predicting the next word based on these counts.\n",
    "\n",
    "2. **Extension #1**: The code now considers word pairs (bigrams) instead of individual words to provide more context when predicting the next word, leading to more coherent responses.\n",
    "\n",
    "3. **Extension #2**: The chatbot associates word pairs with specific characters from a dataset (e.g., the `avatar` dataset), allowing the bot to generate character-specific dialogue. Each character has their own set of bigrams and predicted next words, making the bot's responses more personalized for each character.\n",
    "\n",
    "\n",
    " https://chatgpt.com/share/66eb7d63-8bb8-800e-a4ae-481a337563f1\n",
    " \n",
    " 2. Please see chat history and the code with comments at the end.\n",
    " \n",
    " In this chat, you provided several versions of a Markovian ChatBot code, including extensions, and I explained each one step by step:\n",
    "\n",
    "1. **Original Code**: The basic Markovian chatbot tracks word transitions, where for each word, it records how often another word follows it. This forms the foundation for generating text based on probabilities.\n",
    "\n",
    "2. **Extension #1**: The chatbot now tracks **bigrams** (two-word sequences) instead of single words, allowing for more context-aware text generation. It records how often a word follows a pair of words, improving response coherence.\n",
    "\n",
    "3. **Extension #2**: The chatbot incorporates character-specific word transitions based on a dataset (e.g., `avatar`). It counts how often bigrams appear for each character and what word typically follows them. This enables the chatbot to generate personalized responses for each character in the dataset, reflecting their unique word patterns.\n",
    "\n",
    "Each extension builds on the chatbot's ability to generate more contextually relevant and character-specific text responses.\n",
    "\n",
    "https://chatgpt.com/share/66eb7d63-8bb8-800e-a4ae-481a337563f1\n",
    " \n",
    " 3. Without providing an intermediate extension code, it seems like the chatbot is still able to figure out the function of the extension. \n",
    "\n",
    "In this chat, we discussed two versions of a Markovian ChatBot code. First, I explained the basic version, which tracks word frequencies and transitions between words to generate text based on a Markov chain. Then, I analyzed an extended version that incorporates bi-grams (two-word combinations) and character-specific language modeling from a dataset. The extended version provides more contextual word predictions by tracking word transitions based on characters and the surrounding word pairs.\n",
    " https://chatgpt.com/share/66ec8721-38e4-800e-83f6-cc89e9c65ca7"
   ]
  },
  {
   "cell_type": "markdown",
   "id": "116f0a96",
   "metadata": {},
   "source": [
    "#### 6. Report on your experience interacting with ChatBots to understand the Monte Hall problem and \"Markovian ChatBot\" code\n",
    "\n",
    "1. Discuss how quickly the ChatBot was able to be helpful for each of the above questions, and if so, how?<br><br>\n",
    "2. Discuss whether or not interacting with ChatBot to try to figure things out was frustrating or unhelpful, and if so, how?<br><br>\n",
    "3. Based on your experiences to date (e.g., including using ChatBots to troubleshoot coding errors in the previous homework), provide an overall assessment evaluating the usefulness of ChatBots as tools to help you understand code<br>"
   ]
  },
  {
   "cell_type": "markdown",
   "id": "5e873822",
   "metadata": {},
   "source": [
    "1. The chatbot have immediately become helpful with me when we have trouble understanding certain part of a code, by asking the chatbot to explaining, we can give specific instructions on how these chatbot should explain the code (simple, complicated). In such way, we can consume these knowledge in the way that is of the best fit for each different individuals, unlike a Google search which give you most of the time only one approach to the question. \n",
    "2. Interacting with ChatBot is relatively helpful to a certain extend. Positively, the Chatbot was able to explain things quite clear, however without further prompting, the bot is unlikely to give a short answer that directly answers my question without bring out other parts that might not be revelant. \n",
    "3. On a scale of 1-10, I will give the certain state of ChatBot a light 8, comparing to doing Google searchs and researching on stackoverflow, chatbots gather all of these information for me and present it to me in an organized fashion. However, since chatbots are large language models and cannot understand the code, although I have not yet facing such issues, these chatbots could make mistakes in the future when it comes to large and big set of data. "
   ]
  },
  {
   "cell_type": "markdown",
   "id": "4642d6c2",
   "metadata": {},
   "source": [
    "#### 7. Reflect on your experience interacting with ChatBot and describe how your perception of AI-driven assistance tools in the context of learning coding, statistics, and data science has been evolving (or not) since joining the course<br><br>\n",
    "\n",
    "<details class=\"details-example\"><summary style=\"color:blue\"><u>Further Guidance</u></summary>\n",
    "    \n",
    "> _Question \"7\" and the next question \"8\" are somewhat related to the first bullet point in the suggested interactions of the \"Afterword\" to the Homework from last week... consider reviewing that if you'd like a little extra orienting around what these questions are trying to have you explore_\n",
    "   \n",
    "</details>"
   ]
  },
  {
   "cell_type": "markdown",
   "id": "d79d94b7",
   "metadata": {},
   "source": [
    "My last experience with working with ChatGPT for coding, statistics and data science was more than a year ago. With the GPT 3.5 model back then, the experience was not great, in data management classes during high scool, working with chatbots to help me understand solutions to problem with absolutely terrible as it always produce inaccurate and false result. The code GPT produces are often false, refuses to run without error or overly complicated. Working with AI-driven assistance tools since joining the course and allowed me to understand the improvements of these tools over the past year or so, where now the bot is able to produces relativity better codes that could help me in solving problems. "
   ]
  },
  {
   "cell_type": "markdown",
   "id": "500f440e",
   "metadata": {},
   "source": [
    "#### 8. ChatBots consume text data available on the web or platforms, and thus represents a new way to \"search consensensus\" that condenses and summarizes mainstream human thought<br><br>\n",
    "\n",
    "1. Start a new ChatBot session and discuss the relevance of learning and adaptability, communication, coding, and statistics and data analysis as skills in the modern world, especially with respect to career opportunities (particularly in the context of the data science industry)<br><br>\n",
    "    \n",
    "2. See if ChatBot thinks you could be a statistician or data scientist without coding or doing data analysis, and then transition your ChatBot conversation into a career exploration discussion, using the ChatBot to identify the skills that might be the most valuable for a career that you're interested<br><br>\n",
    "    \n",
    "3. Ask for a summary of this ChatBot session and paste it into your homework notebook (including link(s) to chat log histories if you're using ChatBot)<br><br>\n",
    "    \n",
    "4. Paraphrase the assessments and conclusions of your conversation in the form of a reflection on your current thoughts regarding your potential future career(s) and how you can go about building the skills you need to pursue it<br><br>\n",
    "\n",
    "5. Give your thoughts regarding the helpfulness or limitations of your conversation with a ChatBot, and describe the next steps you would take to pursue this conversation further if you felt the information the ChatBot provides was somewhat high level and general, and perhaps lacked the depth and detailed knowledge of a dedicated subject matter expert who had really take the time to understand the ins and outs of the industry and career path in question.\n",
    "<br><br>\n",
    "\n",
    "<details class=\"details-example\"><summary style=\"color:blue\"><u>Further Guidance</u></summary>\n",
    "\n",
    "> _While question 8 is not a part of the rubric, it is nonetheless a very good exercise that will likely be valuable for you if you engage it them sincerely_\n",
    "    \n",
    "</details>\n"
   ]
  },
  {
   "cell_type": "markdown",
   "id": "25fc8aa9",
   "metadata": {},
   "source": [
    "1/2. No, ChatBot does not think I could be a statistician from what I am seeing. \n",
    "\n",
    "3. Summary: In this conversation, we discussed the critical roles and skills required for a data scientist in the modern world. The core skills include learning and adaptability, communication, coding, and statistics and data analysis, all of which are essential for staying relevant and effective in the evolving field of data science. We then explored the specific responsibilities of a data scientist, such as data collection, cleaning, analysis, model building, big data processing, and communication of insights. Additionally, the conversation covered the importance of collaboration, ethical data handling, and staying current with industry trends.\n",
    "https://chatgpt.com/share/66ec89aa-9cb4-800e-b84f-e0cf3cf3fa6c\n",
    "\n",
    "4. The future of this world is definietly going to be surrounded by data, whoever knows how to use these data, such as commercially, will be at a head start position. Talking to ChatGPT, I learn the many different tasks a data scientist could do, this have broaden my understanding of what a data scientist can do and spark more of my interest in this frield. I think if I am going into this field, one thing I learned that I need to improve on is my ability to solve complex problem as data often connects to many other field at the same time. Improving on problem solving will take time, which I am planning to improve it with my time in university as I am approached by different new tasks everyday. \n",
    "\n",
    "5. Regarding this question, I have already answered perviously. As this is a large language model, a different wording of the same question could produce vastly different answer, therefore I believe to better use chatbot in assisting me and understanding new knowledge in depth will require a bit of Googling to understand the logic of these chatbots and understanding what type of prompt templates will produce the most accurate result, such as I recently learned that do not use \"please\" in chatbot as it will also take this word into account when generating responses. "
   ]
  },
  {
   "cell_type": "markdown",
   "id": "b489452e",
   "metadata": {},
   "source": [
    "#### 9. Have you reviewed the course [wiki-textbook](https://github.com/pointOfive/stat130chat130/wiki) and interacted with a ChatBot (or, if that wasn't sufficient, real people in the course piazza discussion board or TA office hours) to help you understand all the material in the tutorial and lecture that you didn't quite follow when you first saw it?<br><br>\n",
    "  \n",
    "<details class=\"details-example\"><summary style=\"color:blue\"><u>Further Guidance</u></summary>\n",
    "    \n",
    "> _Just answering \"Yes\" or \"No\" or \"Somewhat\" or \"Mostly\" or whatever here is fine as this question isn't a part of the rubric; but, the midterm and final exams may ask questions that are based on the tutorial and lecture materials; and, your own skills will be limited by your familiarity with these materials (which will determine your ability to actually do actual things effectively with these skills... like the course project...)_\n",
    "    \n",
    "</details>"
   ]
  },
  {
   "cell_type": "markdown",
   "id": "4b917d9a",
   "metadata": {},
   "source": [
    "Yes"
   ]
  },
  {
   "cell_type": "code",
   "execution_count": null,
   "id": "16f95257fb4fda6c",
   "metadata": {},
   "outputs": [],
   "source": [
    "# Markovian Chatbot with comments \n",
    "\n",
    "# initialize dictionaries \n",
    "# from collections import defaultdict\n",
    "word_used = dict() # defaultdict(int)\n",
    "next_word = dict() # defaultdict(lambda: defaultdict(int))\n",
    "for i,word in enumerate(words[:-1]): # loop for the the words \n",
    "\n",
    "    if word in word_used: # check to see if the word have been used\n",
    "        word_used[word] += 1\n",
    "    else:\n",
    "        word_used[word] = 1\n",
    "        next_word[word] = {}\n",
    "\n",
    "    if words[i+1] in next_word[word]: # update the next_word dictionary\n",
    "        next_word[word][words[i+1]] += 1\n",
    "    else:\n",
    "        next_word[word][words[i+1]] = 1"
   ]
  },
  {
   "cell_type": "code",
   "execution_count": null,
   "id": "bd0e5d2163411e8e",
   "metadata": {},
   "outputs": [],
   "source": [
    "# Markovian Chatbot Extension #1\n",
    "\n",
    "word_used2 = defaultdict(int) # initialization \n",
    "next_word2 = defaultdict(lambda: defaultdict(int))\n",
    "for i,word in enumerate(words[:-2]): # loop through the word pairs, called bigrams \n",
    "    word_used2[word+' '+words[i+1]] += 1 # create bigram\n",
    "    next_word2[word+' '+words[i+1]][words[i+2]] += 1 # update bigram"
   ]
  },
  {
   "cell_type": "code",
   "execution_count": null,
   "id": "33fe616edecddb60",
   "metadata": {},
   "outputs": [],
   "source": [
    "# Markovian Chatbot Extension #2\n",
    "\n",
    "from collections import Counter, defaultdict\n",
    "# `avatar` is a dataset, and `character` is one of it's columns\n",
    "characters = Counter(\"\\n\"+ avatar.character.str.upper().str.replace(' ','.')+\":\")\n",
    "# this code changes the type of the `character` column to `str`; then,\n",
    "# makes the text uppercase, and replaces spaces with '.'\n",
    "\n",
    "nested_dict = lambda: defaultdict(nested_dict) # create nested dictionaries \n",
    "word_used2C = nested_dict()\n",
    "next_word2C = nested_dict()\n",
    "\n",
    "for i,word in enumerate(words[:-2]): # this counted loop loop through the word list we have created and process the bigram per character\n",
    "    if word in characters: # assign characters to bigrams\n",
    "        character = word\n",
    "        \n",
    "    if character not in word_used2C: # this section track character specific bigrams, such as what character likes to say what \n",
    "        word_used2C[character] = dict()\n",
    "    if word+' '+words[i+1] not in word_used2C[character]:\n",
    "        word_used2C[character][word+' '+words[i+1]] = 0\n",
    "    word_used2C[character][word+' '+words[i+1]] += 1\n",
    "    \n",
    "    if character not in next_word2C: # this track the next word for the character-specific bigram we created \n",
    "        next_word2C[character] = dict()\n",
    "    if word+' '+words[i+1] not in next_word2C[character]:\n",
    "        next_word2C[character][word+' '+words[i+1]] = dict()\n",
    "    if words[i+2] not in next_word2C[character][word+' '+words[i+1]]:\n",
    "        next_word2C[character][word+' '+words[i+1]][words[i+2]] = 0\n",
    "    next_word2C[character][word+' '+words[i+1]][words[i+2]] += 1"
   ]
  },
  {
   "cell_type": "markdown",
   "id": "1ebfa9b9",
   "metadata": {},
   "source": [
    "## Recommended Additional Useful Activities [Optional]\n",
    "\n",
    "The \"Ethical Profesionalism Considerations\" and \"Current Course Project Capability Level\" sections below **are not a part of the required homework assignment**; rather, they are regular weekly guides covering (a) relevant considerations regarding professional and ethical conduct, and (b) the analysis steps for the STA130 course project that are feasible at the current stage of the course <br><br>\n",
    "\n",
    "\n",
    "<details class=\"details-example\"><summary style=\"color:blue\"><u>Ethical Professionalism Considerations</u></summary>\n",
    "\n",
    "### Ethical Professionalism Considerations\n",
    "\n",
    "    \n",
    "> 1. If you've not heard of the \"reproducibility crisis\" in science, have a ChatBot explain it to you\n",
    "> 2. If you've not heard of the \"open source software\" (versus proprietary software), have a ChatBot explain it to you\n",
    "> 3. \"Reproducibility\" can also be considered at the level of a given data analysis project: can others replicate the results of code or analysis that you've done?\n",
    ">    1. Discuss with a ChatBot how jupyter notebooks and github can be used facilitate transparency and reproducibility in data analysis\n",
    "> 4. Discuss with a ChatBot what the distinction is between replicability of scientific experiments, versus the replicability of a specific data analysis project, and what your responsibility as an analyst should be with respect to both\n",
    "> 5. Do you think proprietary (non \"open source software\") software, such as Microsoft Word, Outlook, and Copilot tends to result in high quality products?  \n",
    ">     1. Do you think software product monopolies (such as the UofT dependence on Microsoft products) makes the world a better place?\n",
    "</details>    \n",
    "\n",
    "<details class=\"details-example\"><summary style=\"color:blue\"><u>Current Course Project Capability Level</u></summary>\n",
    "\n",
    "### Current Course Project Capability Level\n",
    "   \n",
    "**Remember to abide by the [data use agreement](https://static1.squarespace.com/static/60283c2e174c122f8ebe0f39/t/6239c284d610f76fed5a2e69/1647952517436/Data+Use+Agreement+for+the+Canadian+Social+Connection+Survey.pdf) at all times.**\n",
    "\n",
    "Information about the course project is available on the course github repo [here](https://github.com/pointOfive/stat130chat130/tree/main/CP), including a draft [course project specfication](https://github.com/pointOfive/stat130chat130/blob/main/CP/STA130F23_course_project_specification.ipynb) (subject to change). \n",
    "- The Week 01 HW introduced [STA130F24_CourseProject.ipynb](https://github.com/pointOfive/stat130chat130/blob/main/CP/STA130F24_CourseProject.ipynb), and the [available variables](https://drive.google.com/file/d/1ISVymGn-WR1lcRs4psIym2N3or5onNBi/view). \n",
    "- Please do not download the [data](https://drive.google.com/file/d/1mbUQlMTrNYA7Ly5eImVRBn16Ehy9Lggo/view) accessible at the bottom of the [CSCS](https://casch.org/cscs) webpage (or the course github repo) multiple times.\n",
    "\n",
    "> At this point in the course you should be able to create a `for` loop to iterate through and provide **simple summaries** of some of the interesting columns in the course project data\n",
    ">\n",
    "> 1. Create two versions of the code, one for numeric and the other for categorical data,  which provide a printout format that displays relavent summaries and the missing data counts for a given set of (either numerical or categorical) columns being examined\n",
    ">\n",
    "> 2. Combine the two separate `for` loops into a single `for` loop using an `if`/`else` **conditional logic structure** that determines the correct printout format based on the data type of the column under consideration  \n",
    ">     1. *Being able to transform existing code so it's \"resuable\" for different purposes is one version of the programming design principle of \"polymorphism\" (which means \"many forms\" or \"many uses\") [as in the first task above]*\n",
    ">     2. *A better version of the programming design principle of \"polymorphism\" is when the same code can handle different use cases [as in the second tast above]*\n",
    ">     3. *Being able run your code with different subsets of columns as interest in different variables changes is a final form of the programming design principle of \"polymorphism\" that's demonstrated through this exercise*   \n",
    "    \n",
    "</details>        "
   ]
  }
 ],
 "metadata": {
  "kernelspec": {
   "display_name": "Python 3 (ipykernel)",
   "language": "python",
   "name": "python3"
  },
  "language_info": {
   "codemirror_mode": {
    "name": "ipython",
    "version": 3
   },
   "file_extension": ".py",
   "mimetype": "text/x-python",
   "name": "python",
   "nbconvert_exporter": "python",
   "pygments_lexer": "ipython3",
   "version": "3.11.6"
  }
 },
 "nbformat": 4,
 "nbformat_minor": 5
}
